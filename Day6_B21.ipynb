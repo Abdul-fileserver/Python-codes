{
 "cells": [
  {
   "cell_type": "code",
   "execution_count": 1,
   "metadata": {},
   "outputs": [],
   "source": [
    "students = ['abdul', 'kadar', 'jelanie', 'fathima', 'yaqub', 'mubashira', 'zarah', 'banu']"
   ]
  },
  {
   "cell_type": "code",
   "execution_count": 3,
   "metadata": {},
   "outputs": [
    {
     "name": "stdout",
     "output_type": "stream",
     "text": [
      "['abdul', 'kadar', 'jelanie', 'fathima', 'yaqub', 'mubashira', 'zarah', 'banu']\n"
     ]
    }
   ],
   "source": [
    "print(students)"
   ]
  },
  {
   "cell_type": "code",
   "execution_count": 5,
   "metadata": {},
   "outputs": [
    {
     "name": "stdout",
     "output_type": "stream",
     "text": [
      "abdul\n",
      "kadar\n",
      "jelanie\n",
      "fathima\n",
      "yaqub\n",
      "mubashira\n",
      "zarah\n",
      "banu\n"
     ]
    }
   ],
   "source": [
    "for i in students:\n",
    "    print(i)"
   ]
  },
  {
   "cell_type": "code",
   "execution_count": 9,
   "metadata": {},
   "outputs": [
    {
     "name": "stdout",
     "output_type": "stream",
     "text": [
      "appreciate for all the your good work, Abdul\n",
      "i am looking forward to receive your files today, Abdul\n",
      "appreciate for all the your good work, Kadar\n",
      "i am looking forward to receive your files today, Kadar\n",
      "appreciate for all the your good work, Jelanie\n",
      "i am looking forward to receive your files today, Jelanie\n",
      "appreciate for all the your good work, Fathima\n",
      "i am looking forward to receive your files today, Fathima\n",
      "appreciate for all the your good work, Yaqub\n",
      "i am looking forward to receive your files today, Yaqub\n",
      "appreciate for all the your good work, Mubashira\n",
      "i am looking forward to receive your files today, Mubashira\n",
      "appreciate for all the your good work, Zarah\n",
      "i am looking forward to receive your files today, Zarah\n",
      "appreciate for all the your good work, Banu\n",
      "i am looking forward to receive your files today, Banu\n"
     ]
    }
   ],
   "source": [
    "for i in students:\n",
    "    print(f'appreciate for all the your good work, {i.title()}')\n",
    "    print(f'i am looking forward to receive your files today, {i.title()}')"
   ]
  },
  {
   "cell_type": "code",
   "execution_count": 11,
   "metadata": {},
   "outputs": [
    {
     "name": "stdout",
     "output_type": "stream",
     "text": [
      "appreciate for all the your good work, Abdul\n",
      "i am looking forward to receive your files today, Abdul\n",
      "\n",
      "appreciate for all the your good work, Kadar\n",
      "i am looking forward to receive your files today, Kadar\n",
      "\n",
      "appreciate for all the your good work, Jelanie\n",
      "i am looking forward to receive your files today, Jelanie\n",
      "\n",
      "appreciate for all the your good work, Fathima\n",
      "i am looking forward to receive your files today, Fathima\n",
      "\n",
      "appreciate for all the your good work, Yaqub\n",
      "i am looking forward to receive your files today, Yaqub\n",
      "\n",
      "appreciate for all the your good work, Mubashira\n",
      "i am looking forward to receive your files today, Mubashira\n",
      "\n",
      "appreciate for all the your good work, Zarah\n",
      "i am looking forward to receive your files today, Zarah\n",
      "\n",
      "appreciate for all the your good work, Banu\n",
      "i am looking forward to receive your files today, Banu\n",
      "\n"
     ]
    }
   ],
   "source": [
    "for i in students:\n",
    "    print(f'appreciate for all the your good work, {i.title()}')\n",
    "    print(f'i am looking forward to receive your files today, {i.title()}\\n')"
   ]
  },
  {
   "cell_type": "code",
   "execution_count": 14,
   "metadata": {},
   "outputs": [
    {
     "name": "stdout",
     "output_type": "stream",
     "text": [
      "appreciate for all the your good work, Abdul\n",
      "i am looking forward to receive your files today, Abdul\n",
      "\n",
      "appreciate for all the your good work, Kadar\n",
      "i am looking forward to receive your files today, Kadar\n",
      "\n",
      "appreciate for all the your good work, Jelanie\n",
      "i am looking forward to receive your files today, Jelanie\n",
      "\n",
      "appreciate for all the your good work, Fathima\n",
      "i am looking forward to receive your files today, Fathima\n",
      "\n",
      "appreciate for all the your good work, Yaqub\n",
      "i am looking forward to receive your files today, Yaqub\n",
      "\n",
      "appreciate for all the your good work, Mubashira\n",
      "i am looking forward to receive your files today, Mubashira\n",
      "\n",
      "appreciate for all the your good work, Zarah\n",
      "i am looking forward to receive your files today, Zarah\n",
      "\n",
      "appreciate for all the your good work, Banu\n",
      "i am looking forward to receive your files today, Banu\n",
      "\n",
      "Thank you all for joining in the python session\n"
     ]
    }
   ],
   "source": [
    "for i in students:\n",
    "    print(f'appreciate for all the your good work, {i.title()}')\n",
    "    print(f'i am looking forward to receive your files today, {i.title()}\\n')\n",
    "print('Thank you all for joining in the python session')"
   ]
  },
  {
   "cell_type": "code",
   "execution_count": 15,
   "metadata": {},
   "outputs": [
    {
     "name": "stdout",
     "output_type": "stream",
     "text": [
      "Abdul\n",
      "Kadar\n",
      "JELANIE\n",
      "Fathima\n",
      "Yaqub\n",
      "Mubashira\n",
      "Zarah\n",
      "Banu\n"
     ]
    }
   ],
   "source": [
    "for i in students:\n",
    "    if i == 'jelanie':\n",
    "        print(i.upper())\n",
    "    else:\n",
    "        print(i.title())\n",
    "        "
   ]
  },
  {
   "cell_type": "code",
   "execution_count": 19,
   "metadata": {},
   "outputs": [
    {
     "name": "stdout",
     "output_type": "stream",
     "text": [
      "['abdul', 'kadar']\n"
     ]
    }
   ],
   "source": [
    "print(students[0:2])"
   ]
  },
  {
   "cell_type": "code",
   "execution_count": null,
   "metadata": {},
   "outputs": [],
   "source": []
  }
 ],
 "metadata": {
  "kernelspec": {
   "display_name": "Python 3",
   "language": "python",
   "name": "python3"
  },
  "language_info": {
   "codemirror_mode": {
    "name": "ipython",
    "version": 3
   },
   "file_extension": ".py",
   "mimetype": "text/x-python",
   "name": "python",
   "nbconvert_exporter": "python",
   "pygments_lexer": "ipython3",
   "version": "3.7.6"
  }
 },
 "nbformat": 4,
 "nbformat_minor": 4
}
