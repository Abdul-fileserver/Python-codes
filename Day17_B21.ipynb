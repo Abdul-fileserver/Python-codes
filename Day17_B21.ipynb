{
 "cells": [
  {
   "cell_type": "code",
   "execution_count": 7,
   "metadata": {},
   "outputs": [],
   "source": [
    "class User:\n",
    "    \n",
    "    def createname(self, name):\n",
    "        self.name = name\n",
    "            \n",
    "    def displayname(self):\n",
    "        print(self.name.title())\n",
    "        \n",
    "    def greetuser(self):\n",
    "        print(f\"welcome back {self.name.title()}\")"
   ]
  },
  {
   "cell_type": "code",
   "execution_count": 12,
   "metadata": {},
   "outputs": [
    {
     "name": "stdout",
     "output_type": "stream",
     "text": [
      "Abdul\n",
      "welcome back Abdul\n"
     ]
    }
   ],
   "source": [
    "obj1 = User()\n",
    "obj1.createname('abdul')\n",
    "obj1.displayname()\n",
    "obj1.greetuser()\n"
   ]
  },
  {
   "cell_type": "code",
   "execution_count": 13,
   "metadata": {},
   "outputs": [
    {
     "name": "stdout",
     "output_type": "stream",
     "text": [
      "Abdul Kadar Jelanie\n",
      "welcome back Abdul Kadar Jelanie\n"
     ]
    }
   ],
   "source": [
    "obj2 = User()\n",
    "obj2.createname('abdul kadar jelanie')\n",
    "obj2.displayname()\n",
    "obj2.greetuser()"
   ]
  },
  {
   "cell_type": "code",
   "execution_count": 14,
   "metadata": {},
   "outputs": [
    {
     "name": "stdout",
     "output_type": "stream",
     "text": [
      "Jelanie\n",
      "welcome back Jelanie\n"
     ]
    }
   ],
   "source": [
    "obj3 = User()\n",
    "obj3.createname('jelanie')\n",
    "obj3.displayname()\n",
    "obj3.greetuser()"
   ]
  },
  {
   "cell_type": "code",
   "execution_count": null,
   "metadata": {},
   "outputs": [],
   "source": []
  }
 ],
 "metadata": {
  "kernelspec": {
   "display_name": "Python 3",
   "language": "python",
   "name": "python3"
  },
  "language_info": {
   "codemirror_mode": {
    "name": "ipython",
    "version": 3
   },
   "file_extension": ".py",
   "mimetype": "text/x-python",
   "name": "python",
   "nbconvert_exporter": "python",
   "pygments_lexer": "ipython3",
   "version": "3.7.6"
  }
 },
 "nbformat": 4,
 "nbformat_minor": 4
}
